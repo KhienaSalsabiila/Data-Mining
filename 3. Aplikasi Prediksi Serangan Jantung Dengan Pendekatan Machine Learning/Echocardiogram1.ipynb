{
  "nbformat": 4,
  "nbformat_minor": 0,
  "metadata": {
    "colab": {
      "provenance": []
    },
    "kernelspec": {
      "name": "python3",
      "display_name": "Python 3"
    },
    "language_info": {
      "name": "python"
    }
  },
  "cells": [
    {
      "cell_type": "code",
      "execution_count": 48,
      "metadata": {
        "id": "Wpvjw4yvrh75"
      },
      "outputs": [],
      "source": [
        "import pandas as pd\n",
        "import numpy as np\n",
        "import os\n",
        "import matplotlib.pyplot as plt\n",
        "import seaborn as ans\n",
        "from sklearn.preprocessing import StandardScaler, OneHotEncoder\n",
        "from sklearn.model_selection import train_test_split\n",
        "from sklearn.linear_model import LogisticRegression\n",
        "from sklearn.metrics import accuracy_score, classification_report"
      ]
    },
    {
      "cell_type": "code",
      "source": [
        "dataku = pd.read_csv('/content/echocardiogram.data', error_bad_lines=False, header=None)\n",
        "\n",
        "dataku.head"
      ],
      "metadata": {
        "colab": {
          "base_uri": "https://localhost:8080/"
        },
        "id": "I4-15DL5rtXE",
        "outputId": "7e8e5dd8-8727-485f-991b-97ede0216953"
      },
      "execution_count": 31,
      "outputs": [
        {
          "output_type": "stream",
          "name": "stderr",
          "text": [
            "<ipython-input-31-bc8b61f11cd4>:1: FutureWarning: The error_bad_lines argument has been deprecated and will be removed in a future version. Use on_bad_lines in the future.\n",
            "\n",
            "\n",
            "  dataku = pd.read_csv('/content/echocardiogram.data', error_bad_lines=False, header=None)\n",
            "Skipping line 50: expected 13 fields, saw 14\n",
            "\n"
          ]
        },
        {
          "output_type": "execute_result",
          "data": {
            "text/plain": [
              "<bound method NDFrame.head of       0   1   2   3      4       5      6     7      8      9     10 11 12\n",
              "0     11   0  71   0  0.260       9  4.600    14      1      1  name  1  0\n",
              "1     19   0  72   0  0.380       6  4.100    14  1.700  0.588  name  1  0\n",
              "2     16   0  55   0  0.260       4  3.420    14      1      1  name  1  0\n",
              "3     57   0  60   0  0.253  12.062  4.603    16  1.450  0.788  name  1  0\n",
              "4     19   1  57   0  0.160      22  5.750    18  2.250  0.571  name  1  0\n",
              "..   ...  ..  ..  ..    ...     ...    ...   ...    ...    ...   ... .. ..\n",
              "126  7.5   1  64   0   0.24    12.9   4.72    12      1  0.857  name  ?  ?\n",
              "127   41   0  64   0   0.28    5.40   5.47    11   1.10  0.714  name  ?  ?\n",
              "128   36   0  69   0   0.20    7.00   5.05  14.5   1.21  0.857  name  ?  ?\n",
              "129   22   0  57   0   0.14    16.1   4.36    15   1.36  0.786  name  ?  ?\n",
              "130   20   0  62   0   0.15       0   4.51  15.5  1.409  0.786  name  ?  ?\n",
              "\n",
              "[131 rows x 13 columns]>"
            ]
          },
          "metadata": {},
          "execution_count": 31
        }
      ]
    },
    {
      "cell_type": "code",
      "source": [
        "df = ['Months', 'Living', 'Onset', 'PericardialEffusion', 'FrationalShortening', 'Epss', 'Lvdd', 'WallMotionScore', 'WallMotionIndex', 'Mult', 'Name', 'Group', '1Year']\n",
        "dataku = pd.read_csv('/content/echocardiogram.data', on_bad_lines='skip', header=None, names=df)\n",
        "\n",
        "dataku.head(6)"
      ],
      "metadata": {
        "colab": {
          "base_uri": "https://localhost:8080/",
          "height": 237
        },
        "id": "zm3daNVbr66P",
        "outputId": "33975760-70e1-43cc-856a-7d3b826a4cb1"
      },
      "execution_count": 32,
      "outputs": [
        {
          "output_type": "execute_result",
          "data": {
            "text/plain": [
              "  Months  Living Onset  PericardialEffusion FrationalShortening    Epss  \\\n",
              "0     11       0    71                    0               0.260       9   \n",
              "1     19       0    72                    0               0.380       6   \n",
              "2     16       0    55                    0               0.260       4   \n",
              "3     57       0    60                    0               0.253  12.062   \n",
              "4     19       1    57                    0               0.160      22   \n",
              "5     26       0    68                    0               0.260       5   \n",
              "\n",
              "    Lvdd WallMotionScore WallMotionIndex   Mult  Name Group 1Year  \n",
              "0  4.600              14               1      1  name     1     0  \n",
              "1  4.100              14           1.700  0.588  name     1     0  \n",
              "2  3.420              14               1      1  name     1     0  \n",
              "3  4.603              16           1.450  0.788  name     1     0  \n",
              "4  5.750              18           2.250  0.571  name     1     0  \n",
              "5  4.310              12               1  0.857  name     1     0  "
            ],
            "text/html": [
              "\n",
              "  <div id=\"df-5d34878f-5ec4-4cc3-a4e2-5144af357d4e\" class=\"colab-df-container\">\n",
              "    <div>\n",
              "<style scoped>\n",
              "    .dataframe tbody tr th:only-of-type {\n",
              "        vertical-align: middle;\n",
              "    }\n",
              "\n",
              "    .dataframe tbody tr th {\n",
              "        vertical-align: top;\n",
              "    }\n",
              "\n",
              "    .dataframe thead th {\n",
              "        text-align: right;\n",
              "    }\n",
              "</style>\n",
              "<table border=\"1\" class=\"dataframe\">\n",
              "  <thead>\n",
              "    <tr style=\"text-align: right;\">\n",
              "      <th></th>\n",
              "      <th>Months</th>\n",
              "      <th>Living</th>\n",
              "      <th>Onset</th>\n",
              "      <th>PericardialEffusion</th>\n",
              "      <th>FrationalShortening</th>\n",
              "      <th>Epss</th>\n",
              "      <th>Lvdd</th>\n",
              "      <th>WallMotionScore</th>\n",
              "      <th>WallMotionIndex</th>\n",
              "      <th>Mult</th>\n",
              "      <th>Name</th>\n",
              "      <th>Group</th>\n",
              "      <th>1Year</th>\n",
              "    </tr>\n",
              "  </thead>\n",
              "  <tbody>\n",
              "    <tr>\n",
              "      <th>0</th>\n",
              "      <td>11</td>\n",
              "      <td>0</td>\n",
              "      <td>71</td>\n",
              "      <td>0</td>\n",
              "      <td>0.260</td>\n",
              "      <td>9</td>\n",
              "      <td>4.600</td>\n",
              "      <td>14</td>\n",
              "      <td>1</td>\n",
              "      <td>1</td>\n",
              "      <td>name</td>\n",
              "      <td>1</td>\n",
              "      <td>0</td>\n",
              "    </tr>\n",
              "    <tr>\n",
              "      <th>1</th>\n",
              "      <td>19</td>\n",
              "      <td>0</td>\n",
              "      <td>72</td>\n",
              "      <td>0</td>\n",
              "      <td>0.380</td>\n",
              "      <td>6</td>\n",
              "      <td>4.100</td>\n",
              "      <td>14</td>\n",
              "      <td>1.700</td>\n",
              "      <td>0.588</td>\n",
              "      <td>name</td>\n",
              "      <td>1</td>\n",
              "      <td>0</td>\n",
              "    </tr>\n",
              "    <tr>\n",
              "      <th>2</th>\n",
              "      <td>16</td>\n",
              "      <td>0</td>\n",
              "      <td>55</td>\n",
              "      <td>0</td>\n",
              "      <td>0.260</td>\n",
              "      <td>4</td>\n",
              "      <td>3.420</td>\n",
              "      <td>14</td>\n",
              "      <td>1</td>\n",
              "      <td>1</td>\n",
              "      <td>name</td>\n",
              "      <td>1</td>\n",
              "      <td>0</td>\n",
              "    </tr>\n",
              "    <tr>\n",
              "      <th>3</th>\n",
              "      <td>57</td>\n",
              "      <td>0</td>\n",
              "      <td>60</td>\n",
              "      <td>0</td>\n",
              "      <td>0.253</td>\n",
              "      <td>12.062</td>\n",
              "      <td>4.603</td>\n",
              "      <td>16</td>\n",
              "      <td>1.450</td>\n",
              "      <td>0.788</td>\n",
              "      <td>name</td>\n",
              "      <td>1</td>\n",
              "      <td>0</td>\n",
              "    </tr>\n",
              "    <tr>\n",
              "      <th>4</th>\n",
              "      <td>19</td>\n",
              "      <td>1</td>\n",
              "      <td>57</td>\n",
              "      <td>0</td>\n",
              "      <td>0.160</td>\n",
              "      <td>22</td>\n",
              "      <td>5.750</td>\n",
              "      <td>18</td>\n",
              "      <td>2.250</td>\n",
              "      <td>0.571</td>\n",
              "      <td>name</td>\n",
              "      <td>1</td>\n",
              "      <td>0</td>\n",
              "    </tr>\n",
              "    <tr>\n",
              "      <th>5</th>\n",
              "      <td>26</td>\n",
              "      <td>0</td>\n",
              "      <td>68</td>\n",
              "      <td>0</td>\n",
              "      <td>0.260</td>\n",
              "      <td>5</td>\n",
              "      <td>4.310</td>\n",
              "      <td>12</td>\n",
              "      <td>1</td>\n",
              "      <td>0.857</td>\n",
              "      <td>name</td>\n",
              "      <td>1</td>\n",
              "      <td>0</td>\n",
              "    </tr>\n",
              "  </tbody>\n",
              "</table>\n",
              "</div>\n",
              "    <div class=\"colab-df-buttons\">\n",
              "\n",
              "  <div class=\"colab-df-container\">\n",
              "    <button class=\"colab-df-convert\" onclick=\"convertToInteractive('df-5d34878f-5ec4-4cc3-a4e2-5144af357d4e')\"\n",
              "            title=\"Convert this dataframe to an interactive table.\"\n",
              "            style=\"display:none;\">\n",
              "\n",
              "  <svg xmlns=\"http://www.w3.org/2000/svg\" height=\"24px\" viewBox=\"0 -960 960 960\">\n",
              "    <path d=\"M120-120v-720h720v720H120Zm60-500h600v-160H180v160Zm220 220h160v-160H400v160Zm0 220h160v-160H400v160ZM180-400h160v-160H180v160Zm440 0h160v-160H620v160ZM180-180h160v-160H180v160Zm440 0h160v-160H620v160Z\"/>\n",
              "  </svg>\n",
              "    </button>\n",
              "\n",
              "  <style>\n",
              "    .colab-df-container {\n",
              "      display:flex;\n",
              "      gap: 12px;\n",
              "    }\n",
              "\n",
              "    .colab-df-convert {\n",
              "      background-color: #E8F0FE;\n",
              "      border: none;\n",
              "      border-radius: 50%;\n",
              "      cursor: pointer;\n",
              "      display: none;\n",
              "      fill: #1967D2;\n",
              "      height: 32px;\n",
              "      padding: 0 0 0 0;\n",
              "      width: 32px;\n",
              "    }\n",
              "\n",
              "    .colab-df-convert:hover {\n",
              "      background-color: #E2EBFA;\n",
              "      box-shadow: 0px 1px 2px rgba(60, 64, 67, 0.3), 0px 1px 3px 1px rgba(60, 64, 67, 0.15);\n",
              "      fill: #174EA6;\n",
              "    }\n",
              "\n",
              "    .colab-df-buttons div {\n",
              "      margin-bottom: 4px;\n",
              "    }\n",
              "\n",
              "    [theme=dark] .colab-df-convert {\n",
              "      background-color: #3B4455;\n",
              "      fill: #D2E3FC;\n",
              "    }\n",
              "\n",
              "    [theme=dark] .colab-df-convert:hover {\n",
              "      background-color: #434B5C;\n",
              "      box-shadow: 0px 1px 3px 1px rgba(0, 0, 0, 0.15);\n",
              "      filter: drop-shadow(0px 1px 2px rgba(0, 0, 0, 0.3));\n",
              "      fill: #FFFFFF;\n",
              "    }\n",
              "  </style>\n",
              "\n",
              "    <script>\n",
              "      const buttonEl =\n",
              "        document.querySelector('#df-5d34878f-5ec4-4cc3-a4e2-5144af357d4e button.colab-df-convert');\n",
              "      buttonEl.style.display =\n",
              "        google.colab.kernel.accessAllowed ? 'block' : 'none';\n",
              "\n",
              "      async function convertToInteractive(key) {\n",
              "        const element = document.querySelector('#df-5d34878f-5ec4-4cc3-a4e2-5144af357d4e');\n",
              "        const dataTable =\n",
              "          await google.colab.kernel.invokeFunction('convertToInteractive',\n",
              "                                                    [key], {});\n",
              "        if (!dataTable) return;\n",
              "\n",
              "        const docLinkHtml = 'Like what you see? Visit the ' +\n",
              "          '<a target=\"_blank\" href=https://colab.research.google.com/notebooks/data_table.ipynb>data table notebook</a>'\n",
              "          + ' to learn more about interactive tables.';\n",
              "        element.innerHTML = '';\n",
              "        dataTable['output_type'] = 'display_data';\n",
              "        await google.colab.output.renderOutput(dataTable, element);\n",
              "        const docLink = document.createElement('div');\n",
              "        docLink.innerHTML = docLinkHtml;\n",
              "        element.appendChild(docLink);\n",
              "      }\n",
              "    </script>\n",
              "  </div>\n",
              "\n",
              "\n",
              "<div id=\"df-6b63cdd8-4468-4cc2-896a-fc21438ec37c\">\n",
              "  <button class=\"colab-df-quickchart\" onclick=\"quickchart('df-6b63cdd8-4468-4cc2-896a-fc21438ec37c')\"\n",
              "            title=\"Suggest charts.\"\n",
              "            style=\"display:none;\">\n",
              "\n",
              "<svg xmlns=\"http://www.w3.org/2000/svg\" height=\"24px\"viewBox=\"0 0 24 24\"\n",
              "     width=\"24px\">\n",
              "    <g>\n",
              "        <path d=\"M19 3H5c-1.1 0-2 .9-2 2v14c0 1.1.9 2 2 2h14c1.1 0 2-.9 2-2V5c0-1.1-.9-2-2-2zM9 17H7v-7h2v7zm4 0h-2V7h2v10zm4 0h-2v-4h2v4z\"/>\n",
              "    </g>\n",
              "</svg>\n",
              "  </button>\n",
              "\n",
              "<style>\n",
              "  .colab-df-quickchart {\n",
              "      --bg-color: #E8F0FE;\n",
              "      --fill-color: #1967D2;\n",
              "      --hover-bg-color: #E2EBFA;\n",
              "      --hover-fill-color: #174EA6;\n",
              "      --disabled-fill-color: #AAA;\n",
              "      --disabled-bg-color: #DDD;\n",
              "  }\n",
              "\n",
              "  [theme=dark] .colab-df-quickchart {\n",
              "      --bg-color: #3B4455;\n",
              "      --fill-color: #D2E3FC;\n",
              "      --hover-bg-color: #434B5C;\n",
              "      --hover-fill-color: #FFFFFF;\n",
              "      --disabled-bg-color: #3B4455;\n",
              "      --disabled-fill-color: #666;\n",
              "  }\n",
              "\n",
              "  .colab-df-quickchart {\n",
              "    background-color: var(--bg-color);\n",
              "    border: none;\n",
              "    border-radius: 50%;\n",
              "    cursor: pointer;\n",
              "    display: none;\n",
              "    fill: var(--fill-color);\n",
              "    height: 32px;\n",
              "    padding: 0;\n",
              "    width: 32px;\n",
              "  }\n",
              "\n",
              "  .colab-df-quickchart:hover {\n",
              "    background-color: var(--hover-bg-color);\n",
              "    box-shadow: 0 1px 2px rgba(60, 64, 67, 0.3), 0 1px 3px 1px rgba(60, 64, 67, 0.15);\n",
              "    fill: var(--button-hover-fill-color);\n",
              "  }\n",
              "\n",
              "  .colab-df-quickchart-complete:disabled,\n",
              "  .colab-df-quickchart-complete:disabled:hover {\n",
              "    background-color: var(--disabled-bg-color);\n",
              "    fill: var(--disabled-fill-color);\n",
              "    box-shadow: none;\n",
              "  }\n",
              "\n",
              "  .colab-df-spinner {\n",
              "    border: 2px solid var(--fill-color);\n",
              "    border-color: transparent;\n",
              "    border-bottom-color: var(--fill-color);\n",
              "    animation:\n",
              "      spin 1s steps(1) infinite;\n",
              "  }\n",
              "\n",
              "  @keyframes spin {\n",
              "    0% {\n",
              "      border-color: transparent;\n",
              "      border-bottom-color: var(--fill-color);\n",
              "      border-left-color: var(--fill-color);\n",
              "    }\n",
              "    20% {\n",
              "      border-color: transparent;\n",
              "      border-left-color: var(--fill-color);\n",
              "      border-top-color: var(--fill-color);\n",
              "    }\n",
              "    30% {\n",
              "      border-color: transparent;\n",
              "      border-left-color: var(--fill-color);\n",
              "      border-top-color: var(--fill-color);\n",
              "      border-right-color: var(--fill-color);\n",
              "    }\n",
              "    40% {\n",
              "      border-color: transparent;\n",
              "      border-right-color: var(--fill-color);\n",
              "      border-top-color: var(--fill-color);\n",
              "    }\n",
              "    60% {\n",
              "      border-color: transparent;\n",
              "      border-right-color: var(--fill-color);\n",
              "    }\n",
              "    80% {\n",
              "      border-color: transparent;\n",
              "      border-right-color: var(--fill-color);\n",
              "      border-bottom-color: var(--fill-color);\n",
              "    }\n",
              "    90% {\n",
              "      border-color: transparent;\n",
              "      border-bottom-color: var(--fill-color);\n",
              "    }\n",
              "  }\n",
              "</style>\n",
              "\n",
              "  <script>\n",
              "    async function quickchart(key) {\n",
              "      const quickchartButtonEl =\n",
              "        document.querySelector('#' + key + ' button');\n",
              "      quickchartButtonEl.disabled = true;  // To prevent multiple clicks.\n",
              "      quickchartButtonEl.classList.add('colab-df-spinner');\n",
              "      try {\n",
              "        const charts = await google.colab.kernel.invokeFunction(\n",
              "            'suggestCharts', [key], {});\n",
              "      } catch (error) {\n",
              "        console.error('Error during call to suggestCharts:', error);\n",
              "      }\n",
              "      quickchartButtonEl.classList.remove('colab-df-spinner');\n",
              "      quickchartButtonEl.classList.add('colab-df-quickchart-complete');\n",
              "    }\n",
              "    (() => {\n",
              "      let quickchartButtonEl =\n",
              "        document.querySelector('#df-6b63cdd8-4468-4cc2-896a-fc21438ec37c button');\n",
              "      quickchartButtonEl.style.display =\n",
              "        google.colab.kernel.accessAllowed ? 'block' : 'none';\n",
              "    })();\n",
              "  </script>\n",
              "</div>\n",
              "    </div>\n",
              "  </div>\n"
            ]
          },
          "metadata": {},
          "execution_count": 32
        }
      ]
    },
    {
      "cell_type": "code",
      "source": [
        "dataku.drop('Name', axis=1, inplace=True)"
      ],
      "metadata": {
        "id": "uG1FNuLmrzS0"
      },
      "execution_count": 33,
      "outputs": []
    },
    {
      "cell_type": "code",
      "source": [
        "# Identifikasi nilai '?' dalam DataFrame\n",
        "missing_values = dataku == '?'\n",
        "\n",
        "# Hitung rata-rata dari kolom 'Living' sebagai pengganti nilai '?'\n",
        "average_life = dataku['Living'][~missing_values['Living']].astype(float).mean()\n",
        "\n",
        "# Gantikan nilai '?' dalam setiap kolom dan baris dengan nilai rata-rata kolom 'Living'\n",
        "for column in dataku.columns:\n",
        "    dataku[column] = dataku[column].replace('?', average_life).astype(float)\n",
        "\n",
        "# Menampilkan DataFrame setelah penggantian\n",
        "print(\"DataFrame setelah mengganti nilai '?' dengan rata-rata kolom 'Living':\")\n",
        "print(dataku)"
      ],
      "metadata": {
        "colab": {
          "base_uri": "https://localhost:8080/"
        },
        "id": "E8VRtpTLr4SD",
        "outputId": "f94cc0fc-c704-4df1-9ecf-e3a2b8437ddd"
      },
      "execution_count": 34,
      "outputs": [
        {
          "output_type": "stream",
          "name": "stdout",
          "text": [
            "DataFrame setelah mengganti nilai '?' dengan rata-rata kolom 'Living':\n",
            "     Months  Living  Onset  PericardialEffusion  FrationalShortening    Epss  \\\n",
            "0      11.0     0.0   71.0                  0.0                0.260   9.000   \n",
            "1      19.0     0.0   72.0                  0.0                0.380   6.000   \n",
            "2      16.0     0.0   55.0                  0.0                0.260   4.000   \n",
            "3      57.0     0.0   60.0                  0.0                0.253  12.062   \n",
            "4      19.0     1.0   57.0                  0.0                0.160  22.000   \n",
            "..      ...     ...    ...                  ...                  ...     ...   \n",
            "126     7.5     1.0   64.0                  0.0                0.240  12.900   \n",
            "127    41.0     0.0   64.0                  0.0                0.280   5.400   \n",
            "128    36.0     0.0   69.0                  0.0                0.200   7.000   \n",
            "129    22.0     0.0   57.0                  0.0                0.140  16.100   \n",
            "130    20.0     0.0   62.0                  0.0                0.150   0.000   \n",
            "\n",
            "      Lvdd  WallMotionScore  WallMotionIndex   Mult     Group     1Year  \n",
            "0    4.600             14.0            1.000  1.000  1.000000  0.000000  \n",
            "1    4.100             14.0            1.700  0.588  1.000000  0.000000  \n",
            "2    3.420             14.0            1.000  1.000  1.000000  0.000000  \n",
            "3    4.603             16.0            1.450  0.788  1.000000  0.000000  \n",
            "4    5.750             18.0            2.250  0.571  1.000000  0.000000  \n",
            "..     ...              ...              ...    ...       ...       ...  \n",
            "126  4.720             12.0            1.000  0.857  0.328244  0.328244  \n",
            "127  5.470             11.0            1.100  0.714  0.328244  0.328244  \n",
            "128  5.050             14.5            1.210  0.857  0.328244  0.328244  \n",
            "129  4.360             15.0            1.360  0.786  0.328244  0.328244  \n",
            "130  4.510             15.5            1.409  0.786  0.328244  0.328244  \n",
            "\n",
            "[131 rows x 12 columns]\n"
          ]
        }
      ]
    },
    {
      "cell_type": "code",
      "source": [
        "from sklearn.preprocessing import MinMaxScaler\n",
        "\n",
        "print('Data sebelum normalisasi: ')\n",
        "print(dataku)\n",
        "\n",
        "scaler = MinMaxScaler()\n",
        "dataku_ternormalisasi = scaler.fit_transform(dataku)\n",
        "\n",
        "print('Data setelah di normalisasi')\n",
        "print(dataku_ternormalisasi)"
      ],
      "metadata": {
        "colab": {
          "base_uri": "https://localhost:8080/"
        },
        "id": "-uExkiZGr-0Y",
        "outputId": "bc31cd95-8dfa-47be-a26f-f9fcd45180fe"
      },
      "execution_count": 35,
      "outputs": [
        {
          "output_type": "stream",
          "name": "stdout",
          "text": [
            "Data sebelum normalisasi: \n",
            "     Months  Living  Onset  PericardialEffusion  FrationalShortening    Epss  \\\n",
            "0      11.0     0.0   71.0                  0.0                0.260   9.000   \n",
            "1      19.0     0.0   72.0                  0.0                0.380   6.000   \n",
            "2      16.0     0.0   55.0                  0.0                0.260   4.000   \n",
            "3      57.0     0.0   60.0                  0.0                0.253  12.062   \n",
            "4      19.0     1.0   57.0                  0.0                0.160  22.000   \n",
            "..      ...     ...    ...                  ...                  ...     ...   \n",
            "126     7.5     1.0   64.0                  0.0                0.240  12.900   \n",
            "127    41.0     0.0   64.0                  0.0                0.280   5.400   \n",
            "128    36.0     0.0   69.0                  0.0                0.200   7.000   \n",
            "129    22.0     0.0   57.0                  0.0                0.140  16.100   \n",
            "130    20.0     0.0   62.0                  0.0                0.150   0.000   \n",
            "\n",
            "      Lvdd  WallMotionScore  WallMotionIndex   Mult     Group     1Year  \n",
            "0    4.600             14.0            1.000  1.000  1.000000  0.000000  \n",
            "1    4.100             14.0            1.700  0.588  1.000000  0.000000  \n",
            "2    3.420             14.0            1.000  1.000  1.000000  0.000000  \n",
            "3    4.603             16.0            1.450  0.788  1.000000  0.000000  \n",
            "4    5.750             18.0            2.250  0.571  1.000000  0.000000  \n",
            "..     ...              ...              ...    ...       ...       ...  \n",
            "126  4.720             12.0            1.000  0.857  0.328244  0.328244  \n",
            "127  5.470             11.0            1.100  0.714  0.328244  0.328244  \n",
            "128  5.050             14.5            1.210  0.857  0.328244  0.328244  \n",
            "129  4.360             15.0            1.360  0.786  0.328244  0.328244  \n",
            "130  4.510             15.5            1.409  0.786  0.328244  0.328244  \n",
            "\n",
            "[131 rows x 12 columns]\n",
            "Data setelah di normalisasi\n",
            "[[0.19255749 0.         0.82491312 ... 0.46236559 0.40182648 0.        ]\n",
            " [0.33298227 0.         0.83658558 ... 0.24086022 0.40182648 0.        ]\n",
            " [0.28032298 0.         0.63815379 ... 0.46236559 0.40182648 0.        ]\n",
            " ...\n",
            " [0.63138494 0.         0.80156821 ... 0.38548387 0.         0.32824427]\n",
            " [0.38564157 0.         0.66149871 ... 0.34731183 0.         0.32824427]\n",
            " [0.35053537 0.         0.719861   ... 0.34731183 0.         0.32824427]]\n"
          ]
        }
      ]
    },
    {
      "cell_type": "code",
      "source": [
        "print(dataku.duplicated())\n",
        "print()\n",
        "print('Data duplikat: ')\n",
        "print(dataku[dataku.duplicated(keep = False)])"
      ],
      "metadata": {
        "colab": {
          "base_uri": "https://localhost:8080/"
        },
        "id": "eQ-1Kcr_s7Cr",
        "outputId": "e92c3ac5-3137-424d-c9f3-c57608149975"
      },
      "execution_count": 36,
      "outputs": [
        {
          "output_type": "stream",
          "name": "stdout",
          "text": [
            "0      False\n",
            "1      False\n",
            "2      False\n",
            "3      False\n",
            "4      False\n",
            "       ...  \n",
            "126    False\n",
            "127    False\n",
            "128    False\n",
            "129    False\n",
            "130    False\n",
            "Length: 131, dtype: bool\n",
            "\n",
            "Data duplikat: \n",
            "Empty DataFrame\n",
            "Columns: [Months, Living, Onset, PericardialEffusion, FrationalShortening, Epss, Lvdd, WallMotionScore, WallMotionIndex, Mult, Group, 1Year]\n",
            "Index: []\n"
          ]
        }
      ]
    },
    {
      "cell_type": "code",
      "source": [
        "missing_value = dataku.isnull().sum()\n",
        "print('Jumlah data hilang pada setiap kolom: ')\n",
        "missing_value"
      ],
      "metadata": {
        "colab": {
          "base_uri": "https://localhost:8080/"
        },
        "id": "ITVD_MCztIWb",
        "outputId": "e15e2c99-309d-4fd8-be46-5d98f653f5f2"
      },
      "execution_count": 37,
      "outputs": [
        {
          "output_type": "stream",
          "name": "stdout",
          "text": [
            "Jumlah data hilang pada setiap kolom: \n"
          ]
        },
        {
          "output_type": "execute_result",
          "data": {
            "text/plain": [
              "Months                 0\n",
              "Living                 0\n",
              "Onset                  0\n",
              "PericardialEffusion    0\n",
              "FrationalShortening    0\n",
              "Epss                   0\n",
              "Lvdd                   0\n",
              "WallMotionScore        0\n",
              "WallMotionIndex        0\n",
              "Mult                   0\n",
              "Group                  0\n",
              "1Year                  0\n",
              "dtype: int64"
            ]
          },
          "metadata": {},
          "execution_count": 37
        }
      ]
    },
    {
      "cell_type": "code",
      "source": [
        "from sklearn.tree import DecisionTreeClassifier\n",
        "\n",
        "# Memisahkan atribut dan target\n",
        "X = dataku.drop('Living', axis=1)  # Asumsikan 'Living' adalah atribut target\n",
        "k = dataku['Living']\n",
        "\n",
        "# Membuat model\n",
        "model = DecisionTreeClassifier()\n",
        "\n",
        "# Melatih model\n",
        "model.fit(X, k)\n",
        "\n",
        "# Menghitung tingkat kepentingan atribut\n",
        "feature_importances = model.feature_importances_\n",
        "\n",
        "# Menampilkan atribut penting\n",
        "print(\"Atribut penting:\")\n",
        "print(feature_importances)\n",
        "\n",
        "# Membuat diagram batang\n",
        "plt.figure(figsize=(10, 6))\n",
        "plt.barh(X.columns, feature_importances)\n",
        "plt.xlabel('Tingkat Kepentingan')\n",
        "plt.ylabel('Fitur Prediktif')\n",
        "plt.title('Atribut Penting')\n",
        "plt.show()"
      ],
      "metadata": {
        "colab": {
          "base_uri": "https://localhost:8080/",
          "height": 616
        },
        "id": "r-wPvE02tK3p",
        "outputId": "e529e004-a944-4ae7-b98d-629865fa581b"
      },
      "execution_count": 38,
      "outputs": [
        {
          "output_type": "stream",
          "name": "stdout",
          "text": [
            "Atribut penting:\n",
            "[0.7884066  0.06720535 0.         0.02307963 0.06053205 0.\n",
            " 0.         0.         0.06077637 0.         0.        ]\n"
          ]
        },
        {
          "output_type": "display_data",
          "data": {
            "text/plain": [
              "<Figure size 1000x600 with 1 Axes>"
            ],
            "image/png": "[encoded data removed]"
          },
          "metadata": {}
        }
      ]
    },
    {
      "cell_type": "code",
      "source": [
        "from sklearn.decomposition import PCA\n",
        "\n",
        "pca = PCA(n_components=2)\n",
        "\n",
        "X_reduced = pca.fit_transform(X)\n",
        "\n",
        "plt.figure(figsize = (10, 8))\n",
        "plt.scatter(X_reduced[:,0], X_reduced[:,1], c=k, cmap='viridis')\n",
        "plt.xlabel('Principal Component 1')\n",
        "plt.ylabel('Principal component 2')\n",
        "plt.title('Reduksi dimensi dengan PCA')\n",
        "plt.colorbar(label = 'Living')\n",
        "plt.show()"
      ],
      "metadata": {
        "colab": {
          "base_uri": "https://localhost:8080/",
          "height": 718
        },
        "id": "8ODql7dKtNQm",
        "outputId": "710d5336-5831-4086-c8ad-aa5043440443"
      },
      "execution_count": 39,
      "outputs": [
        {
          "output_type": "display_data",
          "data": {
            "text/plain": [
              "<Figure size 1000x800 with 2 Axes>"
            ],
            "image/png": "[encoded data removed]"
          },
          "metadata": {}
        }
      ]
    },
    {
      "cell_type": "code",
      "source": [
        "from imblearn.over_sampling import RandomOverSampler\n",
        "from imblearn.under_sampling import RandomUnderSampler\n",
        "\n",
        "# inisialisasi\n",
        "oversampler = RandomOverSampler(random_state=30)\n",
        "\n",
        "undersampler = RandomUnderSampler(random_state=30)\n",
        "\n",
        "# melakukan\n",
        "X_resampled, k_resampled = oversampler.fit_resample(X, k)\n",
        "\n",
        "X_resampled, k_resampled = undersampler.fit_resample(X, k)\n",
        "print('Jumlah kelas setelah resampling: ')\n",
        "\n",
        "# menggabungkan data kembali\n",
        "data_resampled = pd.concat([k_resampled])\n",
        "print(data_resampled)"
      ],
      "metadata": {
        "colab": {
          "base_uri": "https://localhost:8080/"
        },
        "id": "u0toa_UYtXAD",
        "outputId": "396841f3-963b-4be8-f86f-eb3d22881ad1"
      },
      "execution_count": 40,
      "outputs": [
        {
          "output_type": "stream",
          "name": "stdout",
          "text": [
            "Jumlah kelas setelah resampling: \n",
            "0     0.0\n",
            "1     0.0\n",
            "2     0.0\n",
            "3     0.0\n",
            "4     0.0\n",
            "     ... \n",
            "81    1.0\n",
            "82    1.0\n",
            "83    1.0\n",
            "84    1.0\n",
            "85    1.0\n",
            "Name: Living, Length: 86, dtype: float64\n"
          ]
        }
      ]
    },
    {
      "cell_type": "code",
      "source": [
        "X = dataku.drop('Living', axis=1)\n",
        "k = dataku['Living']"
      ],
      "metadata": {
        "id": "25bOiueptZlb"
      },
      "execution_count": 41,
      "outputs": []
    },
    {
      "cell_type": "code",
      "source": [
        "#Membagi dataset\n",
        "X_train, X_test, k_train, k_test = train_test_split(X, k, test_size=0.2, random_state=42)"
      ],
      "metadata": {
        "id": "_8y-oilEtj_x"
      },
      "execution_count": 42,
      "outputs": []
    },
    {
      "cell_type": "code",
      "source": [
        "#Skalakan fitur\n",
        "scaler = StandardScaler()\n",
        "X_train = scaler.fit_transform(X_train)\n",
        "X_test = scaler.transform(X_test)"
      ],
      "metadata": {
        "id": "2jVskryetlzI"
      },
      "execution_count": 43,
      "outputs": []
    },
    {
      "cell_type": "code",
      "source": [
        "# Membuat model Regresi Logistik\n",
        "model = LogisticRegression()\n",
        "\n",
        "# Melatih model pada data pelatihan\n",
        "model.fit(X_train, k_train)"
      ],
      "metadata": {
        "colab": {
          "base_uri": "https://localhost:8080/",
          "height": 74
        },
        "id": "pFHlK5f8toHa",
        "outputId": "b0082860-9e31-42ca-d312-bcc6954b1f55"
      },
      "execution_count": 44,
      "outputs": [
        {
          "output_type": "execute_result",
          "data": {
            "text/plain": [
              "LogisticRegression()"
            ],
            "text/html": [
              "<style>#sk-container-id-2 {color: black;background-color: white;}#sk-container-id-2 pre{padding: 0;}#sk-container-id-2 div.sk-toggleable {background-color: white;}#sk-container-id-2 label.sk-toggleable__label {cursor: pointer;display: block;width: 100%;margin-bottom: 0;padding: 0.3em;box-sizing: border-box;text-align: center;}#sk-container-id-2 label.sk-toggleable__label-arrow:before {content: \"▸\";float: left;margin-right: 0.25em;color: #696969;}#sk-container-id-2 label.sk-toggleable__label-arrow:hover:before {color: black;}#sk-container-id-2 div.sk-estimator:hover label.sk-toggleable__label-arrow:before {color: black;}#sk-container-id-2 div.sk-toggleable__content {max-height: 0;max-width: 0;overflow: hidden;text-align: left;background-color: #f0f8ff;}#sk-container-id-2 div.sk-toggleable__content pre {margin: 0.2em;color: black;border-radius: 0.25em;background-color: #f0f8ff;}#sk-container-id-2 input.sk-toggleable__control:checked~div.sk-toggleable__content {max-height: 200px;max-width: 100%;overflow: auto;}#sk-container-id-2 input.sk-toggleable__control:checked~label.sk-toggleable__label-arrow:before {content: \"▾\";}#sk-container-id-2 div.sk-estimator input.sk-toggleable__control:checked~label.sk-toggleable__label {background-color: #d4ebff;}#sk-container-id-2 div.sk-label input.sk-toggleable__control:checked~label.sk-toggleable__label {background-color: #d4ebff;}#sk-container-id-2 input.sk-hidden--visually {border: 0;clip: rect(1px 1px 1px 1px);clip: rect(1px, 1px, 1px, 1px);height: 1px;margin: -1px;overflow: hidden;padding: 0;position: absolute;width: 1px;}#sk-container-id-2 div.sk-estimator {font-family: monospace;background-color: #f0f8ff;border: 1px dotted black;border-radius: 0.25em;box-sizing: border-box;margin-bottom: 0.5em;}#sk-container-id-2 div.sk-estimator:hover {background-color: #d4ebff;}#sk-container-id-2 div.sk-parallel-item::after {content: \"\";width: 100%;border-bottom: 1px solid gray;flex-grow: 1;}#sk-container-id-2 div.sk-label:hover label.sk-toggleable__label {background-color: #d4ebff;}#sk-container-id-2 div.sk-serial::before {content: \"\";position: absolute;border-left: 1px solid gray;box-sizing: border-box;top: 0;bottom: 0;left: 50%;z-index: 0;}#sk-container-id-2 div.sk-serial {display: flex;flex-direction: column;align-items: center;background-color: white;padding-right: 0.2em;padding-left: 0.2em;position: relative;}#sk-container-id-2 div.sk-item {position: relative;z-index: 1;}#sk-container-id-2 div.sk-parallel {display: flex;align-items: stretch;justify-content: center;background-color: white;position: relative;}#sk-container-id-2 div.sk-item::before, #sk-container-id-2 div.sk-parallel-item::before {content: \"\";position: absolute;border-left: 1px solid gray;box-sizing: border-box;top: 0;bottom: 0;left: 50%;z-index: -1;}#sk-container-id-2 div.sk-parallel-item {display: flex;flex-direction: column;z-index: 1;position: relative;background-color: white;}#sk-container-id-2 div.sk-parallel-item:first-child::after {align-self: flex-end;width: 50%;}#sk-container-id-2 div.sk-parallel-item:last-child::after {align-self: flex-start;width: 50%;}#sk-container-id-2 div.sk-parallel-item:only-child::after {width: 0;}#sk-container-id-2 div.sk-dashed-wrapped {border: 1px dashed gray;margin: 0 0.4em 0.5em 0.4em;box-sizing: border-box;padding-bottom: 0.4em;background-color: white;}#sk-container-id-2 div.sk-label label {font-family: monospace;font-weight: bold;display: inline-block;line-height: 1.2em;}#sk-container-id-2 div.sk-label-container {text-align: center;}#sk-container-id-2 div.sk-container {/* jupyter's `normalize.less` sets `[hidden] { display: none; }` but bootstrap.min.css set `[hidden] { display: none !important; }` so we also need the `!important` here to be able to override the default hidden behavior on the sphinx rendered scikit-learn.org. See: https://github.com/scikit-learn/scikit-learn/issues/21755 */display: inline-block !important;position: relative;}#sk-container-id-2 div.sk-text-repr-fallback {display: none;}</style><div id=\"sk-container-id-2\" class=\"sk-top-container\"><div class=\"sk-text-repr-fallback\"><pre>LogisticRegression()</pre><b>In a Jupyter environment, please rerun this cell to show the HTML representation or trust the notebook. <br />On GitHub, the HTML representation is unable to render, please try loading this page with nbviewer.org.</b></div><div class=\"sk-container\" hidden><div class=\"sk-item\"><div class=\"sk-estimator sk-toggleable\"><input class=\"sk-toggleable__control sk-hidden--visually\" id=\"sk-estimator-id-2\" type=\"checkbox\" checked><label for=\"sk-estimator-id-2\" class=\"sk-toggleable__label sk-toggleable__label-arrow\">LogisticRegression</label><div class=\"sk-toggleable__content\"><pre>LogisticRegression()</pre></div></div></div></div></div>"
            ]
          },
          "metadata": {},
          "execution_count": 44
        }
      ]
    },
    {
      "cell_type": "code",
      "source": [
        "X_train, X_test, k_train, k_test = train_test_split(X, k, test_size=0.2, random_state=101)\n",
        "\n",
        "model = LogisticRegression()\n",
        "model.fit(X_train, k_train)\n",
        "\n",
        "predictions = model.predict(X_test)\n",
        "print(classification_report(k_test, predictions))"
      ],
      "metadata": {
        "colab": {
          "base_uri": "https://localhost:8080/"
        },
        "id": "-2MmxT02tsOu",
        "outputId": "4f391411-91b1-4e27-91a5-08a1c2e5eed8"
      },
      "execution_count": 45,
      "outputs": [
        {
          "output_type": "stream",
          "name": "stdout",
          "text": [
            "              precision    recall  f1-score   support\n",
            "\n",
            "         0.0       1.00      1.00      1.00        19\n",
            "         1.0       1.00      1.00      1.00         8\n",
            "\n",
            "    accuracy                           1.00        27\n",
            "   macro avg       1.00      1.00      1.00        27\n",
            "weighted avg       1.00      1.00      1.00        27\n",
            "\n"
          ]
        },
        {
          "output_type": "stream",
          "name": "stderr",
          "text": [
            "/usr/local/lib/python3.10/dist-packages/sklearn/linear_model/_logistic.py:458: ConvergenceWarning: lbfgs failed to converge (status=1):\n",
            "STOP: TOTAL NO. of ITERATIONS REACHED LIMIT.\n",
            "\n",
            "Increase the number of iterations (max_iter) or scale the data as shown in:\n",
            "    https://scikit-learn.org/stable/modules/preprocessing.html\n",
            "Please also refer to the documentation for alternative solver options:\n",
            "    https://scikit-learn.org/stable/modules/linear_model.html#logistic-regression\n",
            "  n_iter_i = _check_optimize_result(\n"
          ]
        }
      ]
    },
    {
      "cell_type": "code",
      "source": [
        "import pickle\n",
        "# Nama file untuk menyimpan model\n",
        "model_filename = \"logistic_regression_model.sav\"\n",
        "\n",
        "# Menyimpan model ke dalam file menggunakan pickle\n",
        "with open(model_filename, 'wb') as model_file:\n",
        "    pickle.dump(model, model_file)\n",
        "\n",
        "print(\"Model telah disimpan dalam file\", model_filename)"
      ],
      "metadata": {
        "colab": {
          "base_uri": "https://localhost:8080/"
        },
        "id": "L8bOucpbuEdd",
        "outputId": "57d59cb6-1bd5-4af1-d680-1def11fead84"
      },
      "execution_count": 53,
      "outputs": [
        {
          "output_type": "stream",
          "name": "stdout",
          "text": [
            "Model telah disimpan dalam file logistic_regression_model.sav\n"
          ]
        }
      ]
    },
    {
      "cell_type": "code",
      "source": [
        "# Nama file model\n",
        "model_filename = \"logistic_regression_model.sav\"\n",
        "\n",
        "# Dapatkan direktori kerja saat ini\n",
        "current_directory = os.getcwd()\n",
        "\n",
        "# Gabungkan direktori kerja dengan nama file model\n",
        "full_model_path = os.path.join(current_directory, model_filename)\n",
        "\n",
        "print(\"Model disimpan di:\", full_model_path)\n"
      ],
      "metadata": {
        "colab": {
          "base_uri": "https://localhost:8080/"
        },
        "id": "ypvQI1-zxudf",
        "outputId": "ef656e24-e6a7-418f-ab5a-7f5b90727daf"
      },
      "execution_count": 54,
      "outputs": [
        {
          "output_type": "stream",
          "name": "stdout",
          "text": [
            "Model disimpan di: /content/logistic_regression_model.sav\n"
          ]
        }
      ]
    }
  ]
}